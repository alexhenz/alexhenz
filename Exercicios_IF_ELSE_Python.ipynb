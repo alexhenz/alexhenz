{
  "nbformat": 4,
  "nbformat_minor": 0,
  "metadata": {
    "colab": {
      "provenance": [],
      "include_colab_link": true
    },
    "kernelspec": {
      "name": "python3",
      "display_name": "Python 3"
    },
    "language_info": {
      "name": "python"
    }
  },
  "cells": [
    {
      "cell_type": "markdown",
      "metadata": {
        "id": "view-in-github",
        "colab_type": "text"
      },
      "source": [
        "<a href=\"https://colab.research.google.com/github/alexhenz/alexhenz/blob/main/Exercicios_IF_ELSE_Python.ipynb\" target=\"_parent\"><img src=\"https://colab.research.google.com/assets/colab-badge.svg\" alt=\"Open In Colab\"/></a>"
      ]
    },
    {
      "cell_type": "markdown",
      "source": [
        "#Exercício 1"
      ],
      "metadata": {
        "id": "t6ZahNQ_4KON"
      }
    },
    {
      "cell_type": "markdown",
      "source": [
        "Bruno gerencia um pequeno comércio e quer saber qual produto teve o melhor desempenho de vendas no mês passado. Ele registrou a quantidade vendida de dois produtos: maçãs e bananas. Agora, ele precisa escrever um programa que identifique e exiba qual deles teve maior venda.\n",
        "\n",
        "Crie um programa que receba o número de vendas dos dois produtos e exiba uma mensagem indicando qual deles vendeu mais. Se as quantidades forem iguais, exiba uma mensagem dizendo que houve empate.\n",
        "\n"
      ],
      "metadata": {
        "id": "POU_8xdV32xt"
      }
    },
    {
      "cell_type": "code",
      "execution_count": null,
      "metadata": {
        "id": "GTYXcodQ3xyF",
        "outputId": "76a28c7c-a45f-400d-b478-b2c4285daf73",
        "colab": {
          "base_uri": "https://localhost:8080/"
        }
      },
      "outputs": [
        {
          "output_type": "stream",
          "name": "stdout",
          "text": [
            "Digite o número de maçãs vendidas: 15\n",
            "Digite o número de bananas vendidas: 10\n",
            "As maçãs tiveram o melhor desempenho de vendas.\n"
          ]
        }
      ],
      "source": [
        "# Recebe o número de vendas de maçãs e bananas\n",
        "vendas_macas = int(input(\"Digite o número de maçãs vendidas: \"))\n",
        "vendas_bananas = int(input(\"Digite o número de bananas vendidas: \"))\n",
        "\n",
        "# Compara as vendas e exibe o resultado\n",
        "if vendas_macas > vendas_bananas:\n",
        "    print(\"As maçãs tiveram o melhor desempenho de vendas.\")\n",
        "elif vendas_bananas > vendas_macas:\n",
        "    print(\"As bananas tiveram o melhor desempenho de vendas.\")\n",
        "else:\n",
        "    print(\"Houve um empate nas vendas de maçãs e bananas.\")"
      ]
    },
    {
      "cell_type": "markdown",
      "source": [
        "#Exercicio 2"
      ],
      "metadata": {
        "id": "4JDS97Of4kfr"
      }
    },
    {
      "cell_type": "markdown",
      "source": [
        "Camila está organizando um projeto e precisa calcular o tempo total necessário para concluir três atividades: A, B e C. No entanto, se alguma atividade tiver um número de dias negativo, o código deve avisar que os valores inseridos são inválidos e não calcular o total.\n",
        "\n",
        "Escreva um programa que receba o número de dias de três atividades e exiba o tempo total do projeto. Se algum valor for negativo, mostre uma mensagem informando o erro."
      ],
      "metadata": {
        "id": "P5fSfhPs4k0a"
      }
    },
    {
      "cell_type": "code",
      "source": [
        "# Recebe o número de dias para cada atividade\n",
        "dias_atividade_A = int(input(\"Digite o número de dias para a atividade A: \"))\n",
        "dias_atividade_B = int(input(\"Digite o número de dias para a atividade B: \"))\n",
        "dias_atividade_C = int(input(\"Digite o número de dias para a atividade C: \"))\n",
        "\n",
        "# Verifica se algum valor é negativo\n",
        "if dias_atividade_A < 0 or dias_atividade_B < 0 or dias_atividade_C < 0:\n",
        "    print(\"Erro: Os valores inseridos são inválidos. Nenhum valor pode ser negativo.\")\n",
        "else:\n",
        "    # Calcula o tempo total do projeto\n",
        "    tempo_total = dias_atividade_A + dias_atividade_B + dias_atividade_C\n",
        "    print(f\"O tempo total necessário para concluir o projeto é de {tempo_total} dias.\")"
      ],
      "metadata": {
        "id": "-fQyjuPC4qFS",
        "outputId": "c4a0ecd6-d53a-48e3-bcbb-9673205c3cd7",
        "colab": {
          "base_uri": "https://localhost:8080/"
        }
      },
      "execution_count": null,
      "outputs": [
        {
          "output_type": "stream",
          "name": "stdout",
          "text": [
            "Digite o número de dias para a atividade A: 15\n",
            "Digite o número de dias para a atividade B: -10\n",
            "Digite o número de dias para a atividade C: 30\n",
            "Erro: Os valores inseridos são inválidos. Nenhum valor pode ser negativo.\n"
          ]
        }
      ]
    },
    {
      "cell_type": "markdown",
      "source": [
        "#Exercicio 3"
      ],
      "metadata": {
        "id": "xc3md3GH4smV"
      }
    },
    {
      "cell_type": "markdown",
      "source": [
        "Lucas trabalha em TI e precisa garantir que a temperatura de uma sala de servidores não ultrapasse 25°C. Ele quer um programa que receba a temperatura atual como entrada e, se necessário, exiba uma mensagem de alerta.\n",
        "\n",
        "> Adicionar aspas\n",
        "\n",
        "> Adicionar aspas\n",
        "\n",
        "\n",
        "\n"
      ],
      "metadata": {
        "id": "RleQ0M114vzS"
      }
    },
    {
      "cell_type": "code",
      "source": [
        "import time\n",
        "\n",
        "temperatura_maxima = 25.0\n",
        "\n",
        "while True:\n",
        "    temperatura_atual = float(input(\"Digite a temperatura atual da sala de servidores (em °C): \"))\n",
        "\n",
        "    if temperatura_atual > temperatura_maxima:\n",
        "        print(f\"ALERTA: A temperatura atual é de {temperatura_atual}°C, acima do limite de {temperatura_maxima}°C!\")\n",
        "    else:\n",
        "        print(f\"A temperatura atual é de {temperatura_atual}°C, dentro do limite permitido.\")\n",
        "\n",
        "    time.sleep(5)  # Espera 5 segundos antes de verificar novamente"
      ],
      "metadata": {
        "id": "90I7Jk_24vUN",
        "outputId": "15ca93d2-c67b-4d2d-dec1-5b0c64cafb3e",
        "colab": {
          "base_uri": "https://localhost:8080/",
          "height": 425
        }
      },
      "execution_count": null,
      "outputs": [
        {
          "output_type": "stream",
          "name": "stdout",
          "text": [
            "Digite a temperatura atual da sala de servidores (em °C): 22\n",
            "A temperatura atual é de 22.0°C, dentro do limite permitido.\n",
            "Digite a temperatura atual da sala de servidores (em °C): 23\n",
            "A temperatura atual é de 23.0°C, dentro do limite permitido.\n"
          ]
        },
        {
          "output_type": "error",
          "ename": "KeyboardInterrupt",
          "evalue": "Interrupted by user",
          "traceback": [
            "\u001b[0;31m---------------------------------------------------------------------------\u001b[0m",
            "\u001b[0;31mKeyboardInterrupt\u001b[0m                         Traceback (most recent call last)",
            "\u001b[0;32m<ipython-input-6-5c25591f1601>\u001b[0m in \u001b[0;36m<cell line: 0>\u001b[0;34m()\u001b[0m\n\u001b[1;32m      4\u001b[0m \u001b[0;34m\u001b[0m\u001b[0m\n\u001b[1;32m      5\u001b[0m \u001b[0;32mwhile\u001b[0m \u001b[0;32mTrue\u001b[0m\u001b[0;34m:\u001b[0m\u001b[0;34m\u001b[0m\u001b[0;34m\u001b[0m\u001b[0m\n\u001b[0;32m----> 6\u001b[0;31m     \u001b[0mtemperatura_atual\u001b[0m \u001b[0;34m=\u001b[0m \u001b[0mfloat\u001b[0m\u001b[0;34m(\u001b[0m\u001b[0minput\u001b[0m\u001b[0;34m(\u001b[0m\u001b[0;34m\"Digite a temperatura atual da sala de servidores (em °C): \"\u001b[0m\u001b[0;34m)\u001b[0m\u001b[0;34m)\u001b[0m\u001b[0;34m\u001b[0m\u001b[0;34m\u001b[0m\u001b[0m\n\u001b[0m\u001b[1;32m      7\u001b[0m \u001b[0;34m\u001b[0m\u001b[0m\n\u001b[1;32m      8\u001b[0m     \u001b[0;32mif\u001b[0m \u001b[0mtemperatura_atual\u001b[0m \u001b[0;34m>\u001b[0m \u001b[0mtemperatura_maxima\u001b[0m\u001b[0;34m:\u001b[0m\u001b[0;34m\u001b[0m\u001b[0;34m\u001b[0m\u001b[0m\n",
            "\u001b[0;32m/usr/local/lib/python3.11/dist-packages/ipykernel/kernelbase.py\u001b[0m in \u001b[0;36mraw_input\u001b[0;34m(self, prompt)\u001b[0m\n\u001b[1;32m   1175\u001b[0m                 \u001b[0;34m\"raw_input was called, but this frontend does not support input requests.\"\u001b[0m\u001b[0;34m\u001b[0m\u001b[0;34m\u001b[0m\u001b[0m\n\u001b[1;32m   1176\u001b[0m             )\n\u001b[0;32m-> 1177\u001b[0;31m         return self._input_request(\n\u001b[0m\u001b[1;32m   1178\u001b[0m             \u001b[0mstr\u001b[0m\u001b[0;34m(\u001b[0m\u001b[0mprompt\u001b[0m\u001b[0;34m)\u001b[0m\u001b[0;34m,\u001b[0m\u001b[0;34m\u001b[0m\u001b[0;34m\u001b[0m\u001b[0m\n\u001b[1;32m   1179\u001b[0m             \u001b[0mself\u001b[0m\u001b[0;34m.\u001b[0m\u001b[0m_parent_ident\u001b[0m\u001b[0;34m[\u001b[0m\u001b[0;34m\"shell\"\u001b[0m\u001b[0;34m]\u001b[0m\u001b[0;34m,\u001b[0m\u001b[0;34m\u001b[0m\u001b[0;34m\u001b[0m\u001b[0m\n",
            "\u001b[0;32m/usr/local/lib/python3.11/dist-packages/ipykernel/kernelbase.py\u001b[0m in \u001b[0;36m_input_request\u001b[0;34m(self, prompt, ident, parent, password)\u001b[0m\n\u001b[1;32m   1217\u001b[0m             \u001b[0;32mexcept\u001b[0m \u001b[0mKeyboardInterrupt\u001b[0m\u001b[0;34m:\u001b[0m\u001b[0;34m\u001b[0m\u001b[0;34m\u001b[0m\u001b[0m\n\u001b[1;32m   1218\u001b[0m                 \u001b[0;31m# re-raise KeyboardInterrupt, to truncate traceback\u001b[0m\u001b[0;34m\u001b[0m\u001b[0;34m\u001b[0m\u001b[0m\n\u001b[0;32m-> 1219\u001b[0;31m                 \u001b[0;32mraise\u001b[0m \u001b[0mKeyboardInterrupt\u001b[0m\u001b[0;34m(\u001b[0m\u001b[0;34m\"Interrupted by user\"\u001b[0m\u001b[0;34m)\u001b[0m \u001b[0;32mfrom\u001b[0m \u001b[0;32mNone\u001b[0m\u001b[0;34m\u001b[0m\u001b[0;34m\u001b[0m\u001b[0m\n\u001b[0m\u001b[1;32m   1220\u001b[0m             \u001b[0;32mexcept\u001b[0m \u001b[0mException\u001b[0m\u001b[0;34m:\u001b[0m\u001b[0;34m\u001b[0m\u001b[0;34m\u001b[0m\u001b[0m\n\u001b[1;32m   1221\u001b[0m                 \u001b[0mself\u001b[0m\u001b[0;34m.\u001b[0m\u001b[0mlog\u001b[0m\u001b[0;34m.\u001b[0m\u001b[0mwarning\u001b[0m\u001b[0;34m(\u001b[0m\u001b[0;34m\"Invalid Message:\"\u001b[0m\u001b[0;34m,\u001b[0m \u001b[0mexc_info\u001b[0m\u001b[0;34m=\u001b[0m\u001b[0;32mTrue\u001b[0m\u001b[0;34m)\u001b[0m\u001b[0;34m\u001b[0m\u001b[0;34m\u001b[0m\u001b[0m\n",
            "\u001b[0;31mKeyboardInterrupt\u001b[0m: Interrupted by user"
          ]
        }
      ]
    },
    {
      "cell_type": "markdown",
      "source": [
        "#Exercício 4"
      ],
      "metadata": {
        "id": "I80xB1O94-ML"
      }
    },
    {
      "cell_type": "markdown",
      "source": [
        "Carlos quer monitorar seu orçamento mensal para evitar gastos excessivos. Ele estabeleceu um limite de R$ 3.000,00 para seus gastos e precisa de um programa que ajude a controlar suas despesas. O programa deve receber o total de despesas realizadas e informar se ele ultrapassou o limite ou ainda está dentro do orçamento."
      ],
      "metadata": {
        "id": "pm9wL21-5AZy"
      }
    },
    {
      "cell_type": "code",
      "source": [],
      "metadata": {
        "id": "qcewN6Hn5Hgq"
      },
      "execution_count": null,
      "outputs": []
    },
    {
      "cell_type": "markdown",
      "source": [
        "#Exercicio 5"
      ],
      "metadata": {
        "id": "9YQvs4-65H5S"
      }
    },
    {
      "cell_type": "markdown",
      "source": [
        "Mariana é responsável por liberar o acesso ao escritório e precisa de um programa que verifique se os funcionários podem entrar. Para isso, ela usará o horário atual. O escritório só permite acesso entre 8h e 18h. Crie um programa que receba a hora atual como entrada (em formato de 24 horas) e exiba uma mensagem informando se o acesso é permitido ou negado."
      ],
      "metadata": {
        "id": "bRWgBhbv5JnK"
      }
    },
    {
      "cell_type": "code",
      "source": [],
      "metadata": {
        "id": "cv2vc4235SXi"
      },
      "execution_count": null,
      "outputs": []
    },
    {
      "cell_type": "markdown",
      "source": [
        "#Exercicio 6"
      ],
      "metadata": {
        "id": "VQMGdW6k5TAi"
      }
    },
    {
      "cell_type": "markdown",
      "source": [
        "Fernanda está planejando uma viagem e quer calcular quanto pagará de pedágio. O valor do pedágio depende da distância percorrida:\n",
        "\n",
        "*  Até 100 km: R$ 10,00\n",
        "\n",
        "*  Entre 100 km e 200 km: R$ 20,00\n",
        "\n",
        "*  Acima de 200 km: R$ 30,00\n",
        "\n",
        "\n",
        "Crie um programa que receba a distância percorrida e informe o valor do pedágio correspondente."
      ],
      "metadata": {
        "id": "JkipOD_O5Ywy"
      }
    },
    {
      "cell_type": "code",
      "source": [],
      "metadata": {
        "id": "TSG4RiSU5VMf"
      },
      "execution_count": null,
      "outputs": []
    },
    {
      "cell_type": "markdown",
      "source": [
        "#Exercício 7"
      ],
      "metadata": {
        "id": "Dd7x3WM45fnJ"
      }
    },
    {
      "cell_type": "markdown",
      "source": [
        "Pedro quer solicitar um empréstimo, mas a aprovação depende de duas condições:\n",
        "\n",
        "* O valor da renda mensal precisa ser maior que R$ 2.000,00.\n",
        "* O valor da parcela não pode ultrapassar 30% da renda.\n",
        "\n",
        "Crie um programa que receba como entrada a renda mensal de Pedro e o valor da parcela desejada. O programa deve informar se o empréstimo foi aprovado ou negado com base nas condições acima."
      ],
      "metadata": {
        "id": "9a5308O0KlEW"
      }
    },
    {
      "cell_type": "code",
      "source": [],
      "metadata": {
        "id": "HZy-d_G75iuj"
      },
      "execution_count": null,
      "outputs": []
    },
    {
      "cell_type": "markdown",
      "source": [
        "#Exercício 8\n",
        "\n"
      ],
      "metadata": {
        "id": "PB8hiWZtLWL1"
      }
    },
    {
      "cell_type": "markdown",
      "source": [
        "Verificação de Número Positivo, Negativo ou Zero\n",
        "Crie um programa que receba um número e informe se ele é positivo, negativo ou zero."
      ],
      "metadata": {
        "id": "BCpBhShmLbH9"
      }
    },
    {
      "cell_type": "code",
      "source": [],
      "metadata": {
        "id": "7DKsIbobLahm"
      },
      "execution_count": null,
      "outputs": []
    },
    {
      "cell_type": "markdown",
      "source": [
        "#Exercício 9"
      ],
      "metadata": {
        "id": "2gPM4CDgLdY8"
      }
    },
    {
      "cell_type": "markdown",
      "source": [
        "Cálculo de Desconto em uma Compra\n",
        "Crie um programa que receba o valor de uma compra e aplique um desconto de 10% se o valor for maior que R$ 100,00. Caso contrário, não aplique desconto."
      ],
      "metadata": {
        "id": "vLkSD7QFLvPN"
      }
    },
    {
      "cell_type": "code",
      "source": [],
      "metadata": {
        "id": "UhzhuL6uLffy"
      },
      "execution_count": null,
      "outputs": []
    },
    {
      "cell_type": "markdown",
      "source": [
        "#Exercício 10"
      ],
      "metadata": {
        "id": "VNHGaznJLxR0"
      }
    },
    {
      "cell_type": "markdown",
      "source": [
        "Crie um programa que receba a idade de uma pessoa e verifique se ela pode votar. No Brasil, o voto é obrigatório para pessoas entre 18 e 70 anos e facultativo para pessoas de 16 ou 17 anos ou acima de 70 anos."
      ],
      "metadata": {
        "id": "4vLtEkhpL2Az"
      }
    },
    {
      "cell_type": "code",
      "source": [],
      "metadata": {
        "id": "pZUm2nTqLzG6"
      },
      "execution_count": null,
      "outputs": []
    }
  ]
}