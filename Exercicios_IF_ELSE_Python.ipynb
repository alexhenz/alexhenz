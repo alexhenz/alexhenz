{
  "nbformat": 4,
  "nbformat_minor": 0,
  "metadata": {
    "colab": {
      "provenance": []
    },
    "kernelspec": {
      "name": "python3",
      "display_name": "Python 3"
    },
    "language_info": {
      "name": "python"
    }
  },
  "cells": [
    {
      "cell_type": "markdown",
      "source": [
        "#Exercício 1"
      ],
      "metadata": {
        "id": "t6ZahNQ_4KON"
      }
    },
    {
      "cell_type": "markdown",
      "source": [
        "Bruno gerencia um pequeno comércio e quer saber qual produto teve o melhor desempenho de vendas no mês passado. Ele registrou a quantidade vendida de dois produtos: maçãs e bananas. Agora, ele precisa escrever um programa que identifique e exiba qual deles teve maior venda.\n",
        "\n",
        "Crie um programa que receba o número de vendas dos dois produtos e exiba uma mensagem indicando qual deles vendeu mais. Se as quantidades forem iguais, exiba uma mensagem dizendo que houve empate.\n",
        "\n"
      ],
      "metadata": {
        "id": "POU_8xdV32xt"
      }
    },
    {
      "cell_type": "code",
      "execution_count": null,
      "metadata": {
        "id": "GTYXcodQ3xyF"
      },
      "outputs": [],
      "source": []
    },
    {
      "cell_type": "markdown",
      "source": [
        "#Exercicio 2"
      ],
      "metadata": {
        "id": "4JDS97Of4kfr"
      }
    },
    {
      "cell_type": "markdown",
      "source": [
        "Camila está organizando um projeto e precisa calcular o tempo total necessário para concluir três atividades: A, B e C. No entanto, se alguma atividade tiver um número de dias negativo, o código deve avisar que os valores inseridos são inválidos e não calcular o total.\n",
        "\n",
        "Escreva um programa que receba o número de dias de três atividades e exiba o tempo total do projeto. Se algum valor for negativo, mostre uma mensagem informando o erro."
      ],
      "metadata": {
        "id": "P5fSfhPs4k0a"
      }
    },
    {
      "cell_type": "code",
      "source": [],
      "metadata": {
        "id": "-fQyjuPC4qFS"
      },
      "execution_count": null,
      "outputs": []
    },
    {
      "cell_type": "markdown",
      "source": [
        "#Exercicio 3"
      ],
      "metadata": {
        "id": "xc3md3GH4smV"
      }
    },
    {
      "cell_type": "markdown",
      "source": [
        "Lucas trabalha em TI e precisa garantir que a temperatura de uma sala de servidores não ultrapasse 25°C. Ele quer um programa que receba a temperatura atual como entrada e, se necessário, exiba uma mensagem de alerta."
      ],
      "metadata": {
        "id": "RleQ0M114vzS"
      }
    },
    {
      "cell_type": "code",
      "source": [],
      "metadata": {
        "id": "90I7Jk_24vUN"
      },
      "execution_count": null,
      "outputs": []
    },
    {
      "cell_type": "markdown",
      "source": [
        "#Exercício 4"
      ],
      "metadata": {
        "id": "I80xB1O94-ML"
      }
    },
    {
      "cell_type": "markdown",
      "source": [
        "Carlos quer monitorar seu orçamento mensal para evitar gastos excessivos. Ele estabeleceu um limite de R$ 3.000,00 para seus gastos e precisa de um programa que ajude a controlar suas despesas. O programa deve receber o total de despesas realizadas e informar se ele ultrapassou o limite ou ainda está dentro do orçamento."
      ],
      "metadata": {
        "id": "pm9wL21-5AZy"
      }
    },
    {
      "cell_type": "code",
      "source": [],
      "metadata": {
        "id": "qcewN6Hn5Hgq"
      },
      "execution_count": null,
      "outputs": []
    },
    {
      "cell_type": "markdown",
      "source": [
        "#Exercicio 5"
      ],
      "metadata": {
        "id": "9YQvs4-65H5S"
      }
    },
    {
      "cell_type": "markdown",
      "source": [
        "Mariana é responsável por liberar o acesso ao escritório e precisa de um programa que verifique se os funcionários podem entrar. Para isso, ela usará o horário atual. O escritório só permite acesso entre 8h e 18h. Crie um programa que receba a hora atual como entrada (em formato de 24 horas) e exiba uma mensagem informando se o acesso é permitido ou negado."
      ],
      "metadata": {
        "id": "bRWgBhbv5JnK"
      }
    },
    {
      "cell_type": "code",
      "source": [],
      "metadata": {
        "id": "cv2vc4235SXi"
      },
      "execution_count": null,
      "outputs": []
    },
    {
      "cell_type": "markdown",
      "source": [
        "#Exercicio 6"
      ],
      "metadata": {
        "id": "VQMGdW6k5TAi"
      }
    },
    {
      "cell_type": "markdown",
      "source": [
        "Fernanda está planejando uma viagem e quer calcular quanto pagará de pedágio. O valor do pedágio depende da distância percorrida:\n",
        "\n",
        "*  Até 100 km: R$ 10,00\n",
        "\n",
        "*  Entre 100 km e 200 km: R$ 20,00\n",
        "\n",
        "*  Acima de 200 km: R$ 30,00\n",
        "\n",
        "\n",
        "Crie um programa que receba a distância percorrida e informe o valor do pedágio correspondente."
      ],
      "metadata": {
        "id": "JkipOD_O5Ywy"
      }
    },
    {
      "cell_type": "code",
      "source": [],
      "metadata": {
        "id": "TSG4RiSU5VMf"
      },
      "execution_count": null,
      "outputs": []
    },
    {
      "cell_type": "markdown",
      "source": [
        "#Exercício 7"
      ],
      "metadata": {
        "id": "Dd7x3WM45fnJ"
      }
    },
    {
      "cell_type": "markdown",
      "source": [
        "Pedro quer solicitar um empréstimo, mas a aprovação depende de duas condições:\n",
        "\n",
        "* O valor da renda mensal precisa ser maior que R$ 2.000,00.\n",
        "* O valor da parcela não pode ultrapassar 30% da renda.\n",
        "\n",
        "Crie um programa que receba como entrada a renda mensal de Pedro e o valor da parcela desejada. O programa deve informar se o empréstimo foi aprovado ou negado com base nas condições acima."
      ],
      "metadata": {
        "id": "9a5308O0KlEW"
      }
    },
    {
      "cell_type": "code",
      "source": [],
      "metadata": {
        "id": "HZy-d_G75iuj"
      },
      "execution_count": null,
      "outputs": []
    },
    {
      "cell_type": "markdown",
      "source": [
        "#Exercício 8\n",
        "\n"
      ],
      "metadata": {
        "id": "PB8hiWZtLWL1"
      }
    },
    {
      "cell_type": "markdown",
      "source": [
        "Verificação de Número Positivo, Negativo ou Zero\n",
        "Crie um programa que receba um número e informe se ele é positivo, negativo ou zero."
      ],
      "metadata": {
        "id": "BCpBhShmLbH9"
      }
    },
    {
      "cell_type": "code",
      "source": [],
      "metadata": {
        "id": "7DKsIbobLahm"
      },
      "execution_count": null,
      "outputs": []
    },
    {
      "cell_type": "markdown",
      "source": [
        "#Exercício 9"
      ],
      "metadata": {
        "id": "2gPM4CDgLdY8"
      }
    },
    {
      "cell_type": "markdown",
      "source": [
        "Cálculo de Desconto em uma Compra\n",
        "Crie um programa que receba o valor de uma compra e aplique um desconto de 10% se o valor for maior que R$ 100,00. Caso contrário, não aplique desconto."
      ],
      "metadata": {
        "id": "vLkSD7QFLvPN"
      }
    },
    {
      "cell_type": "code",
      "source": [],
      "metadata": {
        "id": "UhzhuL6uLffy"
      },
      "execution_count": null,
      "outputs": []
    },
    {
      "cell_type": "markdown",
      "source": [
        "#Exercício 10"
      ],
      "metadata": {
        "id": "VNHGaznJLxR0"
      }
    },
    {
      "cell_type": "markdown",
      "source": [
        "Crie um programa que receba a idade de uma pessoa e verifique se ela pode votar. No Brasil, o voto é obrigatório para pessoas entre 18 e 70 anos e facultativo para pessoas de 16 ou 17 anos ou acima de 70 anos."
      ],
      "metadata": {
        "id": "4vLtEkhpL2Az"
      }
    },
    {
      "cell_type": "code",
      "source": [],
      "metadata": {
        "id": "pZUm2nTqLzG6"
      },
      "execution_count": null,
      "outputs": []
    }
  ]
}