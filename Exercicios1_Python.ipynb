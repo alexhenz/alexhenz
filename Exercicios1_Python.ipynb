{
  "nbformat": 4,
  "nbformat_minor": 0,
  "metadata": {
    "colab": {
      "provenance": [],
      "include_colab_link": true
    },
    "kernelspec": {
      "name": "python3",
      "display_name": "Python 3"
    },
    "language_info": {
      "name": "python"
    }
  },
  "cells": [
    {
      "cell_type": "markdown",
      "metadata": {
        "id": "view-in-github",
        "colab_type": "text"
      },
      "source": [
        "<a href=\"https://colab.research.google.com/github/alexhenz/alexhenz/blob/main/Exercicios1_Python.ipynb\" target=\"_parent\"><img src=\"https://colab.research.google.com/assets/colab-badge.svg\" alt=\"Open In Colab\"/></a>"
      ]
    },
    {
      "cell_type": "markdown",
      "source": [
        "1-Crie três variáveis representando seu nome, sua idade e sua altura. Exiba-as no console."
      ],
      "metadata": {
        "id": "cJjgj1FE1SM8"
      }
    },
    {
      "cell_type": "code",
      "execution_count": null,
      "metadata": {
        "id": "w_9kNzh41Jls"
      },
      "outputs": [],
      "source": []
    },
    {
      "cell_type": "markdown",
      "source": [
        "2- Descubra o tipo de cada variável ciada no exercício 1."
      ],
      "metadata": {
        "id": "OEjPlhCU1Szk"
      }
    },
    {
      "cell_type": "code",
      "source": [],
      "metadata": {
        "id": "ipyhG4-k1TCi"
      },
      "execution_count": null,
      "outputs": []
    },
    {
      "cell_type": "markdown",
      "source": [
        "3- Converta a variável idade para float e a altura para int. Depois, exiba os novos valores."
      ],
      "metadata": {
        "id": "5v4vpw5l2M-e"
      }
    },
    {
      "cell_type": "code",
      "source": [],
      "metadata": {
        "id": "3B6amjxY2YjT"
      },
      "execution_count": null,
      "outputs": []
    },
    {
      "cell_type": "markdown",
      "source": [
        " 4- Faça um programa que peça dois números ao usuário e mostre a soma, subtração, multiplicação e divisão entre eles."
      ],
      "metadata": {
        "id": "cFeFSIqS2R8r"
      }
    },
    {
      "cell_type": "code",
      "source": [],
      "metadata": {
        "id": "mSJ4kEK72Y9D"
      },
      "execution_count": null,
      "outputs": []
    },
    {
      "cell_type": "markdown",
      "source": [
        "5- Crie um programa que receba a idade de uma pessoa e verifique se ela é maior de idade (18 anos ou mais)."
      ],
      "metadata": {
        "id": "SeVD8UBz2Vdi"
      }
    },
    {
      "cell_type": "code",
      "source": [],
      "metadata": {
        "id": "FVqNVjPN2ZPc"
      },
      "execution_count": null,
      "outputs": []
    },
    {
      "cell_type": "markdown",
      "source": [
        " 6- Calculadora de IMC: Peça o peso e altura do usuário e calcule o Índice de Massa Corporal (IMC)."
      ],
      "metadata": {
        "id": "4RsWvNmI2Z78"
      }
    },
    {
      "cell_type": "code",
      "source": [],
      "metadata": {
        "id": "V9EkYrFu2eQ6"
      },
      "execution_count": null,
      "outputs": []
    },
    {
      "cell_type": "markdown",
      "source": [
        " 7-Verificador de Número Par ou Ímpar:"
      ],
      "metadata": {
        "id": "Ye06Uwir2e0i"
      }
    },
    {
      "cell_type": "code",
      "source": [],
      "metadata": {
        "id": "KAwOgyqK2i9j"
      },
      "execution_count": null,
      "outputs": []
    },
    {
      "cell_type": "markdown",
      "source": [
        "8- Conversor de Temperatura de Celsius para Fahrenheint"
      ],
      "metadata": {
        "id": "Ffq8DpFJ2jgS"
      }
    },
    {
      "cell_type": "code",
      "source": [],
      "metadata": {
        "id": "BEjHUkio20nC"
      },
      "execution_count": null,
      "outputs": []
    },
    {
      "cell_type": "markdown",
      "source": [
        "9- Média de Notas: Peça três notas ao usuário e calcule a média."
      ],
      "metadata": {
        "id": "DBDOW7fU21Eb"
      }
    },
    {
      "cell_type": "code",
      "source": [],
      "metadata": {
        "id": "j-k-JWy13MwC"
      },
      "execution_count": null,
      "outputs": []
    },
    {
      "cell_type": "markdown",
      "source": [
        "10 - Calculo de Juros Compostos:\n",
        "\n",
        "\n",
        "```\n",
        "M=C(1+i)^t\n",
        "```\n",
        "Sendo:\n",
        "* C= Capital inicial\n",
        "* i= Taxa de juros\n",
        "* t= Tempo(meses)\n",
        "\n"
      ],
      "metadata": {
        "id": "rfldAQLt3NEc"
      }
    },
    {
      "cell_type": "code",
      "source": [],
      "metadata": {
        "id": "XGzo0Y3A3zfQ"
      },
      "execution_count": null,
      "outputs": []
    },
    {
      "cell_type": "markdown",
      "source": [
        "11- Comparação de Dois Números\n",
        "Peça dois números ao usuário e exiba se eles são iguais, diferentes, maior, menor, etc."
      ],
      "metadata": {
        "id": "-OEOClEi5bYj"
      }
    },
    {
      "cell_type": "code",
      "source": [],
      "metadata": {
        "id": "3H_7sd_k5dsC"
      },
      "execution_count": null,
      "outputs": []
    },
    {
      "cell_type": "markdown",
      "source": [
        "12- Conversor de Moeda\n",
        "Peça um valor em reais e converta para dólares (suponha uma taxa de câmbio de R$ 5,00 por USD)."
      ],
      "metadata": {
        "id": "BRRTh3hJ5eJy"
      }
    },
    {
      "cell_type": "code",
      "source": [],
      "metadata": {
        "id": "QZTmjuxL5r8a"
      },
      "execution_count": null,
      "outputs": []
    }
  ]
}